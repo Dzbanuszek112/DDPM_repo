{
 "cells": [
  {
   "cell_type": "markdown",
   "id": "a17a6f3a-7eb2-477f-b231-f9feb8453bb6",
   "metadata": {},
   "source": [
    "# Generating nodule images with Denoising Diffusion Model"
   ]
  },
  {
   "cell_type": "markdown",
   "id": "f112a09a-699b-4c99-bc00-e0be0bf22106",
   "metadata": {},
   "source": [
    "## Training of DDPM on LIDC data."
   ]
  },
  {
   "cell_type": "markdown",
   "id": "c1cea755-fed3-4169-9df8-a0ef68aa70b9",
   "metadata": {},
   "source": [
    "Model is trained on nodule CT scans previously extracted from LIDC repository. Training images are of shape (1, 32, 32) and pixel values are scaled to the range [0, 1]"
   ]
  },
  {
   "cell_type": "code",
   "execution_count": 1,
   "id": "0914f761-71b3-42c1-abf8-45cb742efedc",
   "metadata": {},
   "outputs": [],
   "source": [
    "from DDPM_model import DDPM_model\n",
    "from LIDC_Dataset import LIDC_Dataset\n",
    "from torch.utils.data import DataLoader\n",
    "from pathlib import Path\n",
    "from tqdm import tqdm\n",
    "from torchvision.utils import save_image, make_grid\n",
    "import torch"
   ]
  },
  {
   "cell_type": "code",
   "execution_count": 3,
   "id": "75601d1a-afd0-4ab8-92f4-60f58ed0b497",
   "metadata": {},
   "outputs": [],
   "source": [
    "def train_DDPM(n_epoch, batch_size, n_T, device, n_feat, lrate, model_name):\n",
    "    \n",
    "    # General settings:\n",
    "    n_classes = 2 # in the LIDC dataset there are only two classes: beningn and malignant\n",
    "    save_model_structure = True # saving structure and weights\n",
    "    save_weights_only = False # saving only weights\n",
    "    ws_test = [0.5, 1.0, 1.5, 2.0] # strength of generative guidance\n",
    "\n",
    "    # Path settings:\n",
    "    plot_path = f\"./plots/{model_name}/\"\n",
    "    model_path = \"./saved_model/\"\n",
    "    Path(plot_path).mkdir(parents=True, exist_ok=True)\n",
    "    Path(model_path).mkdir(parents=True, exist_ok=True)\n",
    "\n",
    "    # Creating model instance:\n",
    "    ddpm = DDPM_model(n_feat=320, n_T=400, device=\"cuda\")\n",
    "    ddpm.to(device)\n",
    "\n",
    "    # Preparing dataset, dataloader, optimizer:\n",
    "    dataset = LIDC_Dataset(\"/home/dzban112/LIDC_repo/dataset\", train_mode=True)\n",
    "    dataloader = DataLoader(dataset, batch_size=batch_size, shuffle=True, num_workers=4)\n",
    "    optim = torch.optim.Adam(ddpm.parameters(), lr=lrate)\n",
    "\n",
    "    for ep in range(n_epoch):\n",
    "        print(f'epoch {ep}')\n",
    "        ddpm.train()\n",
    "\n",
    "        # linear lrate decay\n",
    "        optim.param_groups[0]['lr'] = lrate*(1-ep/n_epoch)\n",
    "\n",
    "        pbar = tqdm(dataloader)\n",
    "        loss_ema = None\n",
    "        for x, c in pbar: # x is a batch of images, c is a corresponding context (label set)\n",
    "            optim.zero_grad()\n",
    "            x = x.to(device)\n",
    "            c = c.to(device)\n",
    "            loss = ddpm(x, c)\n",
    "            loss.backward()\n",
    "            if loss_ema is None: # Exponential moving average of loss is used to monitor loss across batches.\n",
    "                loss_ema = loss.item()\n",
    "            else:\n",
    "                loss_ema = 0.95 * loss_ema + 0.05 * loss.item()\n",
    "            pbar.set_description(f\"loss: {loss_ema:.4f}\")\n",
    "            optim.step()\n",
    "        \n",
    "        if(ep%5 == 0 or ep == int(n_epoch-1)): \n",
    "            # for evaluation, save an image of currently generated samples (top 8 rows)\n",
    "            # followed by real images (bottom 8 rows)\n",
    "            ddpm.eval()\n",
    "            with torch.no_grad():\n",
    "                n_sample = 8*n_classes\n",
    "                \n",
    "                for w in ws_test:\n",
    "                    x_gen, _, x_gen_store = ddpm.sample(n_sample, (1, 32, 32), device, guide_w=w)\n",
    "                    # append some real images at bottom, order by class also\n",
    "                    x_real = torch.Tensor(x_gen.shape).to(device)\n",
    "                    for k in range(n_classes):\n",
    "                        for j in range(int(n_sample/n_classes)):\n",
    "                            try: \n",
    "                                idx = torch.squeeze((c == k).nonzero())[j]\n",
    "                            except:\n",
    "                                idx = 0\n",
    "                            x_real[k+(j*n_classes)] = x[idx]\n",
    "\n",
    "                    x_all = torch.cat([1-x_gen, 1-x_real])\n",
    "                    grid = make_grid(x_all*-1 + 1, nrow=2)\n",
    "                    save_image(grid, plot_path + f\"image_ep{ep}_w{w}.png\")\n",
    "                    print('saved image at ' + plot_path + f\"image_ep{ep}_w{w}.png\")\n",
    "\n",
    "        if save_model_structure and ep == int(n_epoch-1):\n",
    "            torch.save(ddpm, model_path + f\"{model_name}_{ep}.pth\")\n",
    "            print('saved model at ' + model_path + f\"{model_name}_{ep}.pth\")\n",
    "        elif save_weights_only and ep == int(n_epoch-1):\n",
    "            torch.save(ddpm.state_dict(), model_path + f\"{model_name}_{ep}.pth\")\n",
    "            print('saved model at ' + model_path + f\"{model_name}_{ep}.pth\")"
   ]
  },
  {
   "cell_type": "code",
   "execution_count": 14,
   "id": "4307f3e0-78fd-4e08-9553-928b15262f23",
   "metadata": {},
   "outputs": [
    {
     "name": "stdout",
     "output_type": "stream",
     "text": [
      "epoch 0\n"
     ]
    },
    {
     "name": "stderr",
     "output_type": "stream",
     "text": [
      "loss: 0.4058: 100%|█████████████████████████████████████████████████████████████████████| 27/27 [00:02<00:00, 10.15it/s]\n"
     ]
    },
    {
     "name": "stdout",
     "output_type": "stream",
     "text": [
      "\n",
      "saved image at ./plots/model_256/image_ep0_w0.5.png\n",
      "\n",
      "saved image at ./plots/model_256/image_ep0_w1.0.png\n",
      "\n",
      "saved image at ./plots/model_256/image_ep0_w1.5.png\n",
      "\n",
      "saved image at ./plots/model_256/image_ep0_w2.0.png\n",
      "epoch 1\n"
     ]
    },
    {
     "name": "stderr",
     "output_type": "stream",
     "text": [
      "loss: 0.0901: 100%|█████████████████████████████████████████████████████████████████████| 27/27 [00:02<00:00, 10.52it/s]\n"
     ]
    },
    {
     "name": "stdout",
     "output_type": "stream",
     "text": [
      "epoch 2\n"
     ]
    },
    {
     "name": "stderr",
     "output_type": "stream",
     "text": [
      "loss: 0.0615: 100%|█████████████████████████████████████████████████████████████████████| 27/27 [00:02<00:00, 10.51it/s]\n"
     ]
    },
    {
     "name": "stdout",
     "output_type": "stream",
     "text": [
      "epoch 3\n"
     ]
    },
    {
     "name": "stderr",
     "output_type": "stream",
     "text": [
      "loss: 0.0632: 100%|█████████████████████████████████████████████████████████████████████| 27/27 [00:02<00:00, 10.34it/s]\n"
     ]
    },
    {
     "name": "stdout",
     "output_type": "stream",
     "text": [
      "epoch 4\n"
     ]
    },
    {
     "name": "stderr",
     "output_type": "stream",
     "text": [
      "loss: 0.0592: 100%|█████████████████████████████████████████████████████████████████████| 27/27 [00:02<00:00, 10.40it/s]\n"
     ]
    },
    {
     "name": "stdout",
     "output_type": "stream",
     "text": [
      "epoch 5\n"
     ]
    },
    {
     "name": "stderr",
     "output_type": "stream",
     "text": [
      "loss: 0.0444: 100%|█████████████████████████████████████████████████████████████████████| 27/27 [00:02<00:00, 10.39it/s]\n"
     ]
    },
    {
     "name": "stdout",
     "output_type": "stream",
     "text": [
      "\n",
      "saved image at ./plots/model_256/image_ep5_w0.5.png\n",
      "\n",
      "saved image at ./plots/model_256/image_ep5_w1.0.png\n",
      "\n",
      "saved image at ./plots/model_256/image_ep5_w1.5.png\n",
      "\n",
      "saved image at ./plots/model_256/image_ep5_w2.0.png\n",
      "epoch 6\n"
     ]
    },
    {
     "name": "stderr",
     "output_type": "stream",
     "text": [
      "loss: 0.0563: 100%|█████████████████████████████████████████████████████████████████████| 27/27 [00:02<00:00, 10.29it/s]\n"
     ]
    },
    {
     "name": "stdout",
     "output_type": "stream",
     "text": [
      "epoch 7\n"
     ]
    },
    {
     "name": "stderr",
     "output_type": "stream",
     "text": [
      "loss: 0.0451: 100%|█████████████████████████████████████████████████████████████████████| 27/27 [00:02<00:00, 10.26it/s]\n"
     ]
    },
    {
     "name": "stdout",
     "output_type": "stream",
     "text": [
      "epoch 8\n"
     ]
    },
    {
     "name": "stderr",
     "output_type": "stream",
     "text": [
      "loss: 0.0406: 100%|█████████████████████████████████████████████████████████████████████| 27/27 [00:02<00:00, 10.38it/s]\n"
     ]
    },
    {
     "name": "stdout",
     "output_type": "stream",
     "text": [
      "epoch 9\n"
     ]
    },
    {
     "name": "stderr",
     "output_type": "stream",
     "text": [
      "loss: 0.0421: 100%|█████████████████████████████████████████████████████████████████████| 27/27 [00:02<00:00, 10.18it/s]\n"
     ]
    },
    {
     "name": "stdout",
     "output_type": "stream",
     "text": [
      "epoch 10\n"
     ]
    },
    {
     "name": "stderr",
     "output_type": "stream",
     "text": [
      "loss: 0.0406: 100%|█████████████████████████████████████████████████████████████████████| 27/27 [00:02<00:00, 10.40it/s]\n"
     ]
    },
    {
     "name": "stdout",
     "output_type": "stream",
     "text": [
      "\n",
      "saved image at ./plots/model_256/image_ep10_w0.5.png\n",
      "\n",
      "saved image at ./plots/model_256/image_ep10_w1.0.png\n",
      "\n",
      "saved image at ./plots/model_256/image_ep10_w1.5.png\n",
      "\n",
      "saved image at ./plots/model_256/image_ep10_w2.0.png\n",
      "epoch 11\n"
     ]
    },
    {
     "name": "stderr",
     "output_type": "stream",
     "text": [
      "loss: 0.0360: 100%|█████████████████████████████████████████████████████████████████████| 27/27 [00:02<00:00, 10.41it/s]\n"
     ]
    },
    {
     "name": "stdout",
     "output_type": "stream",
     "text": [
      "epoch 12\n"
     ]
    },
    {
     "name": "stderr",
     "output_type": "stream",
     "text": [
      "loss: 0.0416: 100%|█████████████████████████████████████████████████████████████████████| 27/27 [00:02<00:00, 10.33it/s]\n"
     ]
    },
    {
     "name": "stdout",
     "output_type": "stream",
     "text": [
      "epoch 13\n"
     ]
    },
    {
     "name": "stderr",
     "output_type": "stream",
     "text": [
      "loss: 0.0346: 100%|█████████████████████████████████████████████████████████████████████| 27/27 [00:02<00:00, 10.26it/s]\n"
     ]
    },
    {
     "name": "stdout",
     "output_type": "stream",
     "text": [
      "epoch 14\n"
     ]
    },
    {
     "name": "stderr",
     "output_type": "stream",
     "text": [
      "loss: 0.0329: 100%|█████████████████████████████████████████████████████████████████████| 27/27 [00:02<00:00, 10.18it/s]\n"
     ]
    },
    {
     "name": "stdout",
     "output_type": "stream",
     "text": [
      "epoch 15\n"
     ]
    },
    {
     "name": "stderr",
     "output_type": "stream",
     "text": [
      "loss: 0.0340: 100%|█████████████████████████████████████████████████████████████████████| 27/27 [00:02<00:00, 10.31it/s]\n"
     ]
    },
    {
     "name": "stdout",
     "output_type": "stream",
     "text": [
      "\n",
      "saved image at ./plots/model_256/image_ep15_w0.5.png\n",
      "\n",
      "saved image at ./plots/model_256/image_ep15_w1.0.png\n",
      "\n",
      "saved image at ./plots/model_256/image_ep15_w1.5.png\n",
      "\n",
      "saved image at ./plots/model_256/image_ep15_w2.0.png\n",
      "epoch 16\n"
     ]
    },
    {
     "name": "stderr",
     "output_type": "stream",
     "text": [
      "loss: 0.0457: 100%|█████████████████████████████████████████████████████████████████████| 27/27 [00:02<00:00, 10.25it/s]\n"
     ]
    },
    {
     "name": "stdout",
     "output_type": "stream",
     "text": [
      "epoch 17\n"
     ]
    },
    {
     "name": "stderr",
     "output_type": "stream",
     "text": [
      "loss: 0.0379: 100%|█████████████████████████████████████████████████████████████████████| 27/27 [00:02<00:00, 10.26it/s]\n"
     ]
    },
    {
     "name": "stdout",
     "output_type": "stream",
     "text": [
      "\n",
      "saved image at ./plots/model_256/image_ep17_w0.5.png\n",
      "\n",
      "saved image at ./plots/model_256/image_ep17_w1.0.png\n",
      "\n",
      "saved image at ./plots/model_256/image_ep17_w1.5.png\n",
      "\n",
      "saved image at ./plots/model_256/image_ep17_w2.0.png\n",
      "saved model at ./saved_model/model_256_17.pth\n"
     ]
    }
   ],
   "source": [
    "train_DDPM(n_epoch=18, batch_size=32, n_T=500, device=\"cuda\", n_feat=256, lrate=1e-4, model_name=\"model_256\")"
   ]
  },
  {
   "cell_type": "markdown",
   "id": "b5a1ea58-2c91-40bc-a6bd-e4729f4dc562",
   "metadata": {},
   "source": [
    "## Generating images with trained model"
   ]
  },
  {
   "cell_type": "code",
   "execution_count": 2,
   "id": "53b9fdca-869c-4d56-b4c1-6fd301641e8c",
   "metadata": {},
   "outputs": [],
   "source": [
    "import torch\n",
    "import matplotlib.pyplot as plt"
   ]
  },
  {
   "cell_type": "code",
   "execution_count": 8,
   "id": "cf2d619d-5d98-4d0f-a30b-e41044733dd2",
   "metadata": {},
   "outputs": [],
   "source": [
    "def plot_grid(x_gen, n_sample, c):\n",
    "    assert n_sample%2==0, \"n_sample should be odd!\"\n",
    "    plt.set_cmap('gray')\n",
    "    fig, axes = plt.subplots(2, int(n_sample/2), figsize=(15, 5))\n",
    "    k=0\n",
    "    for i in range(axes.shape[0]):\n",
    "        for j in range(n_sample//2):\n",
    "            img = x_gen[k][0].cpu()\n",
    "            axes[i][j].imshow(img)\n",
    "            axes[i][j].set_title(f\"Class: {c[k]}\")\n",
    "            k+=1\n",
    "\n",
    "\n",
    "def plot_image(path2imgs, img_name, grid=True):\n",
    "    plt.set_cmap('gray')         \n",
    "    img = torch.load(f\"{path2imgs}/{img_name}\").cpu()[0]\n",
    "    plt.imshow(img)\n",
    "    plt.show()\n",
    "\n",
    "\n",
    "def generate(n_sample, guide_w, path_to_model, test_gen=True):\n",
    "    device = torch.device(\"cuda\")\n",
    "    ddpm = torch.load(path_to_model)\n",
    "    ddpm = ddpm.to(device)   \n",
    "    ddpm.eval()\n",
    "    \n",
    "    with torch.no_grad():\n",
    "        x_gen, c, x_gen_store = ddpm.sample(n_sample, (1, 32, 32), device, guide_w=guide_w)\n",
    "    if test_gen:\n",
    "        plot_grid(x_gen, n_sample, c)\n",
    "    else:\n",
    "        return x_gen, c, x_gen_store \n",
    "\n",
    "\n",
    "def save_gen_imgs(n_sample, guide_w, model_name):\n",
    "    path_to_model = f\"./saved_model/{model_name}.pth\"\n",
    "    class_0_storage_folder = f\"./gen_imgs/{model_name}/class0/\"\n",
    "    class_1_storage_folder = f\"./gen_imgs/{model_name}/class1/\"\n",
    "    Path(class_0_storage_folder).mkdir(parents=True, exist_ok=True)\n",
    "    Path(class_1_storage_folder).mkdir(parents=True, exist_ok=True)\n",
    "\n",
    "    x_gen, c, _ = generate(n_sample, guide_w, path_to_model, test_gen=False)\n",
    "    assert x_gen.shape[0] == c.shape[0], \"Unconsistent shapes!\"\n",
    "    for i in range(x_gen.shape[0]):\n",
    "        if c[i] == 0:\n",
    "            save_path = class_0_storage_folder\n",
    "        elif c[i] == 1:\n",
    "            save_path = class_1_storage_folder\n",
    "        img = x_gen[i]\n",
    "        id = str(i+1).zfill(4)\n",
    "        torch.save(img.clone(), f\"{save_path}/{id}.pt\")\n",
    "    print(\"\")\n",
    "    print(\"Images saved :D\")"
   ]
  },
  {
   "cell_type": "markdown",
   "id": "36d17d72-7249-4342-8266-3d6a6b87741f",
   "metadata": {},
   "source": [
    "## Trial generation"
   ]
  },
  {
   "cell_type": "code",
   "execution_count": 12,
   "id": "92c8406a-5e04-4e71-8e17-da4e1d673545",
   "metadata": {},
   "outputs": [
    {
     "name": "stdout",
     "output_type": "stream",
     "text": [
      "\n",
      "sampling timestep 100\r"
     ]
    },
    {
     "data": {
      "text/plain": [
       "<Figure size 640x480 with 0 Axes>"
      ]
     },
     "metadata": {},
     "output_type": "display_data"
    },
    {
     "data": {
      "image/png": "[encoded data removed]",
      "text/plain": [
       "<Figure size 1500x500 with 16 Axes>"
      ]
     },
     "metadata": {},
     "output_type": "display_data"
    }
   ],
   "source": [
    "# Model 256 features in the latent space, n_T=500:\n",
    "generate(n_sample=16, guide_w=1.75, path_to_model=\"./saved_model/model_256_17.pth\", test_gen=True)"
   ]
  },
  {
   "cell_type": "markdown",
   "id": "c90eaf89-89f0-4e45-b346-58dfbcb2bfc1",
   "metadata": {},
   "source": [
    "## Generation and saving images"
   ]
  },
  {
   "cell_type": "code",
   "execution_count": 13,
   "id": "6557d94e-10d3-4ea2-b3c6-b7cb3e096f09",
   "metadata": {},
   "outputs": [
    {
     "name": "stdout",
     "output_type": "stream",
     "text": [
      "\n",
      "sampling timestep 100\n",
      "Images saved :D\n"
     ]
    }
   ],
   "source": [
    "n_sample = 400 #How many images to generate.\n",
    "guide_w = 1.7 #Strength of generative guidance.\n",
    "model_name = \"model_256_17\"\n",
    "\n",
    "save_gen_imgs(n_sample=n_sample, guide_w=guide_w, model_name=model_name)"
   ]
  },
  {
   "cell_type": "code",
   "execution_count": null,
   "id": "5cfebc16-578a-408c-9824-f09e1a8393aa",
   "metadata": {},
   "outputs": [],
   "source": []
  }
 ],
 "metadata": {
  "kernelspec": {
   "display_name": "Python 3 (ipykernel)",
   "language": "python",
   "name": "python3"
  },
  "language_info": {
   "codemirror_mode": {
    "name": "ipython",
    "version": 3
   },
   "file_extension": ".py",
   "mimetype": "text/x-python",
   "name": "python",
   "nbconvert_exporter": "python",
   "pygments_lexer": "ipython3",
   "version": "3.10.9"
  }
 },
 "nbformat": 4,
 "nbformat_minor": 5
}
